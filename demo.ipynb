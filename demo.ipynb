{
  "cells": [
    {
      "cell_type": "markdown",
      "metadata": {
        "id": "Y6G8rPMzX62C"
      },
      "source": [
        "# 구글 드라이브 마운트"
      ]
    },
    {
      "cell_type": "code",
      "execution_count": null,
      "metadata": {
        "id": "V1nh1h64YA3F",
        "colab": {
          "base_uri": "https://localhost:8080/"
        },
        "outputId": "ed6a2ca3-5d45-439f-af5a-363888d002c1"
      },
      "outputs": [
        {
          "output_type": "stream",
          "name": "stdout",
          "text": [
            "Mounted at /content/drive\n"
          ]
        }
      ],
      "source": [
        "from google.colab import drive\n",
        "drive.mount('/content/drive')"
      ]
    },
    {
      "cell_type": "code",
      "execution_count": null,
      "metadata": {
        "id": "GbpS-rr1YCjJ"
      },
      "outputs": [],
      "source": [
        "import os\n",
        "\n",
        "# 현재 위치를 변경\n",
        "os.chdir('/content/drive/MyDrive/KoBART-summarization-main/KoBART-summarization-main')"
      ]
    },
    {
      "cell_type": "markdown",
      "metadata": {
        "id": "-yR486SyYFO9"
      },
      "source": [
        "# csv to tsv"
      ]
    },
    {
      "cell_type": "code",
      "execution_count": null,
      "metadata": {
        "id": "nt4DN4kzYKwP"
      },
      "outputs": [],
      "source": [
        "#csv는 구분자가 콤마(,)이고, tsv는 구분자가 탭(\\t)\n",
        "#train_data\n",
        "import pandas as pd\n",
        "path = '/content/drive/MyDrive/his+public+data/TrainingPassages_his-cul.csv'\n",
        "df = pd.read_csv(path, sep = \",\", engine='python', encoding = \"utf-8\")\n",
        "df.dropna(axis=0)\n",
        "df.to_csv('train.tsv', sep='\\t', encoding=\"utf-8\", index=False)\n",
        "\n",
        "import shutil\n",
        "\n",
        "# 원본 파일 경로\n",
        "source_file = '/content/drive/MyDrive/KoBART-summarization-main/KoBART-summarization-main/train.tsv'\n",
        "# 이동할 위치의 폴더 경로\n",
        "destination_folder = '/content/drive/MyDrive/KoBART-summarization-main/KoBART-summarization-main/data/'\n",
        "# 파일 이동\n",
        "shutil.move(source_file, destination_folder)"
      ]
    },
    {
      "cell_type": "code",
      "execution_count": null,
      "metadata": {
        "id": "xUld75xUYMhz"
      },
      "outputs": [],
      "source": [
        "#test_data\n",
        "path = '/content/drive/MyDrive/his+public+data/TestPassages_public.csv'\n",
        "df = pd.read_csv(path, sep = \",\", engine='python', encoding=\"utf-8\")\n",
        "df.dropna(axis=0)\n",
        "df.to_csv('test.tsv', sep='\\t', encoding=\"utf-8\", index=False)\n",
        "\n",
        "source_file = '/content/drive/MyDrive/KoBART-summarization-main/KoBART-summarization-main/test.tsv'\n",
        "destination_folder = '/content/drive/MyDrive/KoBART-summarization-main/KoBART-summarization-main/data/'\n",
        "shutil.move(source_file, destination_folder)"
      ]
    },
    {
      "cell_type": "markdown",
      "metadata": {
        "id": "cIEHbZptYRcG"
      },
      "source": [
        "# set up"
      ]
    },
    {
      "cell_type": "code",
      "execution_count": null,
      "metadata": {
        "id": "nvWPU6v2YTQz"
      },
      "outputs": [],
      "source": [
        "pip install -r requirements.txt"
      ]
    },
    {
      "cell_type": "code",
      "execution_count": null,
      "metadata": {
        "id": "6ztZQWhsYX6z"
      },
      "outputs": [],
      "source": [
        "!pip install transformers==3.5.1\n",
        "!pip install loguru\n",
        "!pip install lightning==2.0.8\n",
        "!pip install tokenizers==0.13.3"
      ]
    },
    {
      "cell_type": "markdown",
      "metadata": {
        "id": "bkhXZUPpet5-"
      },
      "source": [
        "# Train"
      ]
    },
    {
      "cell_type": "code",
      "execution_count": null,
      "metadata": {
        "id": "WTEvceCfexaJ"
      },
      "outputs": [],
      "source": [
        "!python train.py --gradient_clip_val 1.0 \\\n",
        "                --max_epochs 100 \\\n",
        "                --checkpoint checkpoint \\\n",
        "                --accelerator gpu \\\n",
        "                --num_gpus 1 \\\n",
        "                --batch_size 4 \\\n",
        "                --num_workers 4"
      ]
    },
    {
      "cell_type": "code",
      "execution_count": null,
      "metadata": {
        "id": "9MJjKYSJaR6p"
      },
      "outputs": [],
      "source": [
        "from lightning.pytorch.callbacks import ModelCheckpoint\n",
        "\n"
      ]
    },
    {
      "cell_type": "markdown",
      "metadata": {
        "id": "VCufDWoSOUNk"
      },
      "source": [
        "# Test"
      ]
    },
    {
      "cell_type": "code",
      "execution_count": null,
      "metadata": {
        "id": "b0DHBoU0IlpX"
      },
      "outputs": [],
      "source": [
        " !python get_model_binary.py --model_binary '/content/drive/MyDrive/KoBART-summarization-main/KoBART-summarization-main/checkpoint/summarization_final/epoch=99-val_loss=0.000.ckpt'"
      ]
    },
    {
      "cell_type": "code",
      "execution_count": null,
      "metadata": {
        "id": "Ox2PHlJvcOV5"
      },
      "outputs": [],
      "source": [
        "import torch\n",
        "from transformers import PreTrainedTokenizerFast\n",
        "from transformers.models.bart import BartForConditionalGeneration\n",
        "#from transformers import BartTokenizer\n",
        "\n",
        "# 모델 바이너리 파일 경로\n",
        "model_binary_path = '/content/drive/MyDrive/KoBART-summarization-main/KoBART-summarization-main/kobart_summary'\n",
        "\n",
        "# KoBART 모델 및 토크나이저 로드\n",
        "tokenizer = PreTrainedTokenizerFast.from_pretrained('gogamza/kobart-base-v1')\n",
        "model = BartForConditionalGeneration.from_pretrained(model_binary_path)\n",
        "\n"
      ]
    },
    {
      "cell_type": "code",
      "source": [
        "# 입력 텍스트\n",
        "input_text =  \"\"\"\n",
        " 광화문(光化門)은 서울특별시 종로구의 조선왕조 법궁인 경복궁의 남쪽에 있는 정문이다. \"임금의 큰 덕(德)이 온 나라를 비춘다\"는 의미이다. 1395년에 세워졌으며, 2층 누각 구조로 되어 있다. 경복궁의 정전인 근정전으로 가기 위해 지나야 하는 문 3개 중에서 첫째로 마주하는 문이며, 둘째는 흥례문, 셋째는 근정문이다. 광화문 앞에는 지금은 도로 건설로 사라진 월대가 자리잡고 있었으며, 양쪽에는 한 쌍의 해태 조각상이 자리잡고 있다. 광화문의 석축부에는 세 개의 홍예문(虹霓門, 아치문)이 있다. 가운데 문은 임금이 다니던 문이고, 나머지 좌우의 문은 신하들이 다니던 문이었는데, 왼쪽 문은 무신이, 오른쪽 문은 문신이 출입했다. 광화문의 가운데 문 천장에는 주작이 그려져 있고, 왼쪽 문에는 거북이가, 오른쪽 문에는 천마가 그려져 있다.\n",
        "\"\"\"\n",
        "# 입력 텍스트를 토큰화하여 인코딩\n",
        "input_ids = tokenizer.encode(input_text, return_tensors=\"pt\", max_length=1024, truncation=True)\n",
        "\n",
        "# 모델을 사용하여 요약 생성\n",
        "summary_ids = model.generate(input_ids, max_length=150, min_length=15, length_penalty=2.0, num_beams=4, early_stopping=True)\n",
        "\n",
        "# 요약 결과 디코딩\n",
        "summary_text = tokenizer.decode(summary_ids[0], skip_special_tokens=True)\n",
        "\n",
        "# 요약 출력\n",
        "print(\"요약 텍스트:\", summary_text)"
      ],
      "metadata": {
        "colab": {
          "base_uri": "https://localhost:8080/"
        },
        "id": "e4rbbYnVw1lD",
        "outputId": "e945ccf4-ae09-418e-d530-fddf045930ac"
      },
      "execution_count": null,
      "outputs": [
        {
          "output_type": "stream",
          "name": "stdout",
          "text": [
            "요약 텍스트: 광화문 광화문(光化門)은 서울특별시 종로구의 조선왕조 법궁인 경복궁의 남쪽에 있는 정문이다. \"임금의 큰 덕(德)이 온 나라를 비춘다\"는 의미이다. 1395년에 세워졌으며, 2층 누각 구조로 되어 있다. 경복궁의 정전인 근정전으로 가기 위해 지나야 하는 문 3개 중에서 첫째로 마주하는 문이며, 둘째는 흥례문, 셋째는 근정문이다.\n"
          ]
        }
      ]
    },
    {
      "cell_type": "code",
      "source": [],
      "metadata": {
        "id": "G1hOTBc0w1rT"
      },
      "execution_count": null,
      "outputs": []
    },
    {
      "cell_type": "code",
      "source": [],
      "metadata": {
        "id": "_YTA5yu-w1tp"
      },
      "execution_count": null,
      "outputs": []
    }
   
